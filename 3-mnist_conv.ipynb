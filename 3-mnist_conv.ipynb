{
 "cells": [
  {
   "cell_type": "markdown",
   "metadata": {
    "colab_type": "text",
    "id": "SJdYJmQj0vck"
   },
   "source": [
    "# MNIST数字認識 (畳み込みNNの利用)"
   ]
  },
  {
   "cell_type": "markdown",
   "metadata": {
    "colab_type": "text",
    "id": "5-oRMK8T0vcm"
   },
   "source": [
    "## 必要なパッケージをインポート"
   ]
  },
  {
   "cell_type": "code",
   "execution_count": null,
   "metadata": {
    "colab": {},
    "colab_type": "code",
    "id": "zhK6ttRE0vcn"
   },
   "outputs": [],
   "source": [
    "import torch\n",
    "import torch.nn as nn\n",
    "from torchvision import datasets, transforms\n",
    "import torch.nn.functional as F\n",
    "import torch.optim as optim\n",
    "import time\n",
    "import matplotlib.pyplot as plt"
   ]
  },
  {
   "cell_type": "markdown",
   "metadata": {
    "colab_type": "text",
    "id": "HyDRLZWJ0vcu"
   },
   "source": [
    "## グローバル定数の設定"
   ]
  },
  {
   "cell_type": "code",
   "execution_count": null,
   "metadata": {
    "colab": {},
    "colab_type": "code",
    "id": "dm8bMv2R0vcv"
   },
   "outputs": [],
   "source": [
    "batch_size = 200                # ミニバッチサイズ\n",
    "sgd_lr = 0.1 # SGDの学習率"
   ]
  },
  {
   "cell_type": "markdown",
   "metadata": {
    "colab_type": "text",
    "id": "bh8XTl1v0vcz"
   },
   "source": [
    "## データローダの準備 (MNISTデータのダウンロードも含む)"
   ]
  },
  {
   "cell_type": "code",
   "execution_count": null,
   "metadata": {
    "colab": {},
    "colab_type": "code",
    "id": "KrOIJ6FE0vc0"
   },
   "outputs": [],
   "source": [
    "root = '.' # mnistデータの置き場所\n",
    "download = True\n",
    "trans = transforms.Compose([transforms.ToTensor(), transforms.Normalize((0.5,), (1.0,))])\n",
    "train_set = datasets.MNIST(root=root, train=True, transform=trans, download=download)\n",
    "test_set = datasets.MNIST(root=root, train=False, transform=trans)\n",
    "# ローダの準備\n",
    "train_loader = torch.utils.data.DataLoader(dataset=train_set, batch_size=batch_size, shuffle=True)\n",
    "test_loader = torch.utils.data.DataLoader(dataset=test_set, batch_size=batch_size, shuffle=False)"
   ]
  },
  {
   "cell_type": "markdown",
   "metadata": {
    "colab_type": "text",
    "id": "c3r7qhCP0vc3"
   },
   "source": [
    "## データの中身を表示してみる"
   ]
  },
  {
   "cell_type": "code",
   "execution_count": null,
   "metadata": {
    "colab": {},
    "colab_type": "code",
    "id": "pWyZotC80vc3"
   },
   "outputs": [],
   "source": [
    "data_iter = iter(train_loader)"
   ]
  },
  {
   "cell_type": "code",
   "execution_count": null,
   "metadata": {
    "colab": {},
    "colab_type": "code",
    "id": "6FSJJawb0vc6"
   },
   "outputs": [],
   "source": [
    "images, labels = data_iter.next()\n",
    "npimg = images[0].numpy()\n",
    "npimg = npimg.reshape((28, 28))\n",
    "plt.imshow(npimg, cmap='gray')\n",
    "print('Label:', labels[0].item())"
   ]
  },
  {
   "cell_type": "markdown",
   "metadata": {
    "colab_type": "text",
    "id": "YiZ24BM60vc9"
   },
   "source": [
    "## モデルの定義\n"
   ]
  },
  {
   "cell_type": "code",
   "execution_count": null,
   "metadata": {
    "colab": {},
    "colab_type": "code",
    "id": "gIi2nnZR0vc-"
   },
   "outputs": [],
   "source": [
    "class Net(nn.Module): \n",
    "    def __init__(self):\n",
    "        super(Net, self).__init__() \n",
    "        self.conv1 = nn.Conv2d(1, 32, 3) # 28x28x1 -> 26x26x32\n",
    "        self.conv2 = nn.Conv2d(32, 64, 3) # 26x26x32 -> 24x24x64 \n",
    "        self.pool = nn.MaxPool2d(2, 2) # 24x24x64 -> 12x12x64\n",
    "        self.fc1 = nn.Linear(12 * 12 * 64, 128)\n",
    "        self.fc2 = nn.Linear(128, 10)\n",
    "\n",
    "    def forward(self, x):\n",
    "        x = F.relu(self.conv1(x)) #　第１畳み込み層\n",
    "        x = F.relu(self.conv2(x)) # 第２畳み込み層\n",
    "        x = self.pool(x) # プーリング層\n",
    "        x = x.view(-1, 12 * 12 * 64)\n",
    "        x = F.relu(self.fc1(x)) #全結合層 1\n",
    "        x = self.fc2(x) # 全結合層 2\n",
    "        return F.log_softmax(x, dim=1)"
   ]
  },
  {
   "cell_type": "markdown",
   "metadata": {
    "colab_type": "text",
    "id": "GnGWXV5U0vc_"
   },
   "source": [
    "## 訓練ループ"
   ]
  },
  {
   "cell_type": "markdown",
   "metadata": {
    "colab_type": "text",
    "id": "BYeP2wUf0vdA"
   },
   "source": [
    "学習には結構時間がかかるので、本を読むなりコーヒーを飲むなりして気長に待ちましょう。。。"
   ]
  },
  {
   "cell_type": "code",
   "execution_count": null,
   "metadata": {
    "colab": {},
    "colab_type": "code",
    "id": "MY2yDWYF0vdA"
   },
   "outputs": [],
   "source": [
    "model = Net() # モデルのインスタンス生成\n",
    "optimizer = optim.SGD(model.parameters(), lr=sgd_lr)\n",
    "running_loss = 0.0\n",
    "i = 0\n",
    "for loop in range(3): # 3エポックの訓練\n",
    "    for (input, target) in train_loader:\n",
    "        i = i + 1\n",
    "        optimizer.zero_grad()    # optimizerの初期化\n",
    "        output = model(input)     # 推論計算\n",
    "        loss = F.nll_loss(output, target) # 損失関数の定義\n",
    "        loss.backward()             # バックプロパゲーション(後ろ向き計算)\n",
    "        optimizer.step()            # パラメータ更新\n",
    "        running_loss += loss.item()\n",
    "        if i % 100 == 99:    # print every 100 mini-batches\n",
    "            print('[%5d] loss: %.3f' %\n",
    "                  (i + 1, running_loss / 100))\n",
    "            running_loss = 0.0"
   ]
  },
  {
   "cell_type": "markdown",
   "metadata": {
    "colab_type": "text",
    "id": "9ASRDFn10vdB"
   },
   "source": [
    "## 精度の評価"
   ]
  },
  {
   "cell_type": "code",
   "execution_count": null,
   "metadata": {
    "colab": {},
    "colab_type": "code",
    "id": "1zFiIJP10vdC"
   },
   "outputs": [],
   "source": [
    "correct =  0 # 正解数\n",
    "count = 0 # 試行数\n",
    "with torch.no_grad():\n",
    "    for (input, target) in test_loader:\n",
    "        output = model(input)     # 推論計算\n",
    "        pred = output.argmax(dim=1)\n",
    "        correct += pred.eq(target.data).sum()\n",
    "        count += batch_size\n",
    "print ('accuracy = ', float(correct)/float(count)) # 正解率の表示"
   ]
  },
  {
   "cell_type": "markdown",
   "metadata": {
    "colab_type": "text",
    "id": "WirHyeMt0vdE"
   },
   "source": [
    "## テスト認識を実施してみる"
   ]
  },
  {
   "cell_type": "code",
   "execution_count": null,
   "metadata": {
    "colab": {},
    "colab_type": "code",
    "id": "4P13dIMh0vdE"
   },
   "outputs": [],
   "source": [
    "test_iter = iter(test_loader)"
   ]
  },
  {
   "cell_type": "code",
   "execution_count": null,
   "metadata": {
    "colab": {},
    "colab_type": "code",
    "id": "UZoeGqNT0vdF"
   },
   "outputs": [],
   "source": [
    "input, labels = test_iter.next()\n",
    "output = model(input)     # 推論計算\n",
    "pred = output.argmax(dim=1)\n",
    "plt.imshow(input[0].numpy().reshape(28, 28), cmap='gray')\n",
    "print('True      Label:', labels[0].item())\n",
    "print('Estimated Label:', pred[0].item())"
   ]
  },
  {
   "cell_type": "markdown",
   "metadata": {
    "colab_type": "text",
    "id": "pajePcMx0vdH"
   },
   "source": [
    "---------------------"
   ]
  },
  {
   "cell_type": "markdown",
   "metadata": {
    "colab_type": "text",
    "id": "5G-HVRqQ0vdH"
   },
   "source": [
    "\n",
    "## 演習問題 3-5 (チャレンジ問題)\n",
    "\n",
    "上記のコードを実行しつつ、理解せよ。この問題についてはレポートによる報告は必要ない。\n",
    "\n",
    "## 演習問題 3-6 (チャレンジ問題)\n",
    "\n",
    "正答率99%超を目指して工夫してみよ。達成できた場合、その工夫と実行結果をレポートにまとめよ。 \n",
    "\n",
    "-------------------\n"
   ]
  },
  {
   "cell_type": "code",
   "execution_count": null,
   "metadata": {
    "colab": {},
    "colab_type": "code",
    "id": "Yd8KvrZG0vdH"
   },
   "outputs": [],
   "source": []
  }
 ],
 "metadata": {
  "colab": {
   "collapsed_sections": [],
   "name": "mnist-conv.ipynb",
   "provenance": []
  },
  "kernelspec": {
   "display_name": "Python 3",
   "language": "python",
   "name": "python3"
  },
  "language_info": {
   "codemirror_mode": {
    "name": "ipython",
    "version": 3
   },
   "file_extension": ".py",
   "mimetype": "text/x-python",
   "name": "python",
   "nbconvert_exporter": "python",
   "pygments_lexer": "ipython3",
   "version": "3.8.5"
  }
 },
 "nbformat": 4,
 "nbformat_minor": 4
}
