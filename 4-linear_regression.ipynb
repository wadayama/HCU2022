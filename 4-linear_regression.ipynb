{
  "nbformat": 4,
  "nbformat_minor": 0,
  "metadata": {
    "kernelspec": {
      "display_name": "Python 3",
      "language": "python",
      "name": "python3"
    },
    "language_info": {
      "codemirror_mode": {
        "name": "ipython",
        "version": 3
      },
      "file_extension": ".py",
      "mimetype": "text/x-python",
      "name": "python",
      "nbconvert_exporter": "python",
      "pygments_lexer": "ipython3",
      "version": "3.7.3"
    },
    "colab": {
      "name": "linear_regression.ipynb",
      "provenance": [],
      "collapsed_sections": []
    }
  },
  "cells": [
    {
      "cell_type": "markdown",
      "metadata": {
        "id": "-BSmDzll7uAo",
        "colab_type": "text"
      },
      "source": [
        "# 重線形回帰に関するコード\n",
        "\n",
        "このコードは次のサイトの記述とコードを参考にしています。\n",
        "https://www.kaggle.com/aakashns/pytorch-basics-linear-regression-from-scratch"
      ]
    },
    {
      "cell_type": "markdown",
      "metadata": {
        "id": "SpJnWNKX7uAq",
        "colab_type": "text"
      },
      "source": [
        "## 準備"
      ]
    },
    {
      "cell_type": "code",
      "metadata": {
        "id": "z5rB_VO37uAr",
        "colab_type": "code",
        "colab": {}
      },
      "source": [
        "import numpy as np\n",
        "import torch"
      ],
      "execution_count": null,
      "outputs": []
    },
    {
      "cell_type": "markdown",
      "metadata": {
        "id": "pKzZJfeS7uAw",
        "colab_type": "text"
      },
      "source": [
        "0次元テンソル(スカラー）の変数を作ってみます。"
      ]
    },
    {
      "cell_type": "code",
      "metadata": {
        "id": "MvlLXXM_7uAx",
        "colab_type": "code",
        "colab": {}
      },
      "source": [
        "x = torch.tensor(3.)\n",
        "w = torch.tensor(4., requires_grad=True)\n",
        "b = torch.tensor(5., requires_grad=True)"
      ],
      "execution_count": null,
      "outputs": []
    },
    {
      "cell_type": "markdown",
      "metadata": {
        "id": "7VRSiqju7uA1",
        "colab_type": "text"
      },
      "source": [
        "中身を表示してみます。"
      ]
    },
    {
      "cell_type": "code",
      "metadata": {
        "id": "IChvbGbC7uA2",
        "colab_type": "code",
        "colab": {}
      },
      "source": [
        "print('x = ', x)\n",
        "print('w = ', w)\n",
        "print('b = ', b)"
      ],
      "execution_count": null,
      "outputs": []
    },
    {
      "cell_type": "markdown",
      "metadata": {
        "id": "HHyvdnn77uA5",
        "colab_type": "text"
      },
      "source": [
        "テンソルの演算(スカラー演算)をしてみます。"
      ]
    },
    {
      "cell_type": "code",
      "metadata": {
        "id": "BkOfqM_O7uA6",
        "colab_type": "code",
        "colab": {}
      },
      "source": [
        "y = w * x + b\n",
        "print('y = ', y)"
      ],
      "execution_count": null,
      "outputs": []
    },
    {
      "cell_type": "markdown",
      "metadata": {
        "id": "zXaAAjOW7uA8",
        "colab_type": "text"
      },
      "source": [
        "## PyTorchにおける自動微分"
      ]
    },
    {
      "cell_type": "markdown",
      "metadata": {
        "id": "KAEkG13E7uA9",
        "colab_type": "text"
      },
      "source": [
        "PyTorchの自動微分計算機能を使ってみます。ここでは、与えられた$y = w*x+b$ に対して、$x = 3$のときの$dy/dw$と$dy/db$を計算します。"
      ]
    },
    {
      "cell_type": "code",
      "metadata": {
        "id": "ZOHnlutf7uA9",
        "colab_type": "code",
        "colab": {}
      },
      "source": [
        "y.backward()"
      ],
      "execution_count": null,
      "outputs": []
    },
    {
      "cell_type": "markdown",
      "metadata": {
        "id": "V5FiwyJ17uBA",
        "colab_type": "text"
      },
      "source": [
        "導関数値を表示します。自分で計算した導関数値と一致するか、確認してみてください。"
      ]
    },
    {
      "cell_type": "code",
      "metadata": {
        "id": "da5AvS577uBA",
        "colab_type": "code",
        "colab": {}
      },
      "source": [
        "print('dy/dw:', w.grad)\n",
        "print('dy/db:', b.grad)"
      ],
      "execution_count": null,
      "outputs": []
    },
    {
      "cell_type": "markdown",
      "metadata": {
        "id": "NCL1x_rw7uBD",
        "colab_type": "text"
      },
      "source": [
        "## PyTorchにおけるブロードキャスティング"
      ]
    },
    {
      "cell_type": "code",
      "metadata": {
        "id": "hbnky8OO7uBE",
        "colab_type": "code",
        "colab": {}
      },
      "source": [
        "a = torch.tensor(2.0)\n",
        "torch.sigmoid(a)"
      ],
      "execution_count": null,
      "outputs": []
    },
    {
      "cell_type": "markdown",
      "metadata": {
        "id": "KUMtaqyM7uBG",
        "colab_type": "text"
      },
      "source": [
        "関数の適用は、入力テンソルの各要素ごとに適用される"
      ]
    },
    {
      "cell_type": "code",
      "metadata": {
        "id": "DlEcVGNK7uBH",
        "colab_type": "code",
        "colab": {}
      },
      "source": [
        "X = torch.tensor([[1.0, 2.0, 3.0], [4.0, 5.0, 6.0]])\n",
        "torch.sigmoid(X)"
      ],
      "execution_count": null,
      "outputs": []
    },
    {
      "cell_type": "markdown",
      "metadata": {
        "id": "VouowJFl7uBI",
        "colab_type": "text"
      },
      "source": [
        "1次元テンソルを入力とする関数を定義してみる。 \n",
        "$$\n",
        "test_func(x) = x_1 + x_2 + x_3 + 1\n",
        "$$\n",
        "\n",
        "\"@\" は行列(テンソル)の積を表す(ちなみに\"*\"は要素ごとの積)"
      ]
    },
    {
      "cell_type": "code",
      "metadata": {
        "id": "MJHO9uYk7uBJ",
        "colab_type": "code",
        "colab": {}
      },
      "source": [
        "torch.ones(3,1) # 3 x 1 テンソル"
      ],
      "execution_count": null,
      "outputs": []
    },
    {
      "cell_type": "code",
      "metadata": {
        "id": "rNONl8YO7uBK",
        "colab_type": "code",
        "colab": {}
      },
      "source": [
        "def test_func(x):\n",
        "    return x @ torch.ones(3, 1) + 1\n",
        "\n",
        "a = torch.tensor([1.0, 2.0, 3.0])\n",
        "test_func(a)"
      ],
      "execution_count": null,
      "outputs": []
    },
    {
      "cell_type": "markdown",
      "metadata": {
        "id": "vzF9g8yK7uBM",
        "colab_type": "text"
      },
      "source": [
        "test_funcをXに適用するとXの各行にtest_funcが適用されて、その結果が列ベクトルとして返される(ブロードキャスティング)\n",
        "ブロードキャスティングは、前回のニューラルネットワークモデルをミニバッチに適用するときにも自動的に適用されたいる"
      ]
    },
    {
      "cell_type": "code",
      "metadata": {
        "id": "XidiLgpC7uBN",
        "colab_type": "code",
        "colab": {}
      },
      "source": [
        "test_func(X)"
      ],
      "execution_count": null,
      "outputs": []
    },
    {
      "cell_type": "markdown",
      "metadata": {
        "id": "5TTSneqN7uBO",
        "colab_type": "text"
      },
      "source": [
        "## 重線形回帰をしてみよう"
      ]
    },
    {
      "cell_type": "markdown",
      "metadata": {
        "id": "2UJrAdT37uBP",
        "colab_type": "text"
      },
      "source": [
        "次のデータはりんごとオレンジの収穫量と３つの要因（温度、降雨量、湿度）の関係のデータである。(表データは外部サイトのpngファイルにリンクしています)\n",
        "<img src=\"https://i.imgur.com/lBguUV9.png\">"
      ]
    },
    {
      "cell_type": "markdown",
      "metadata": {
        "id": "8dB9R9S07uBP",
        "colab_type": "text"
      },
      "source": [
        "## 以降で定義する重回帰モデル"
      ]
    },
    {
      "cell_type": "markdown",
      "metadata": {
        "id": "0-yO9hXE7uBP",
        "colab_type": "text"
      },
      "source": [
        "### yeild_apple  = w1 * temp + w2 * rainfall + w3 * humidity + b"
      ]
    },
    {
      "cell_type": "markdown",
      "metadata": {
        "id": "bz_TLm4n7uBQ",
        "colab_type": "text"
      },
      "source": [
        "## 入力データ(温度・降雨量・湿度)"
      ]
    },
    {
      "cell_type": "code",
      "metadata": {
        "id": "WlFSX9bR7uBQ",
        "colab_type": "code",
        "colab": {}
      },
      "source": [
        "# Input (temp, rainfall, humidity)\n",
        "X = torch.Tensor(\n",
        "    [[73, 67, 43], \n",
        "    [91, 88, 64], \n",
        "    [87, 134, 58], \n",
        "    [102, 43, 37], \n",
        "    [69, 96, 70]])\n",
        "print(X)"
      ],
      "execution_count": null,
      "outputs": []
    },
    {
      "cell_type": "markdown",
      "metadata": {
        "id": "OLQ3wg207uBR",
        "colab_type": "text"
      },
      "source": [
        "## 収穫量のデータ(りんご)"
      ]
    },
    {
      "cell_type": "code",
      "metadata": {
        "id": "1mq-5X5s7uBS",
        "colab_type": "code",
        "colab": {}
      },
      "source": [
        "Y = torch.Tensor(\n",
        "[[56], \n",
        " [81], \n",
        " [119], \n",
        " [22], \n",
        " [103]]\n",
        ")\n",
        "print(Y)"
      ],
      "execution_count": null,
      "outputs": []
    },
    {
      "cell_type": "markdown",
      "metadata": {
        "id": "OhkvMwXf7uBT",
        "colab_type": "text"
      },
      "source": [
        "## 重み行列とバイアスを準備する"
      ]
    },
    {
      "cell_type": "code",
      "metadata": {
        "id": "DwYReu_47uBT",
        "colab_type": "code",
        "colab": {}
      },
      "source": [
        "# Weights and biases\n",
        "w = torch.randn(3, 1, requires_grad=True)\n",
        "b = torch.randn(1, requires_grad=True)\n",
        "print(w)\n",
        "print(b)"
      ],
      "execution_count": null,
      "outputs": []
    },
    {
      "cell_type": "markdown",
      "metadata": {
        "id": "DIp5mo527uBV",
        "colab_type": "text"
      },
      "source": [
        "## 重回帰モデル\n",
        "$$\n",
        "\\hat y = x w + b\n",
        "$$\n",
        "ここで、\n",
        "* $x = (x_1, x_2, x_3) \\in \\mathbb{R}^3$の要素はそれぞれ温度, 降雨量, 湿度を表すデータ\n",
        "* $w = (w_1, w_2, w_3)^T\\in \\mathbb{R}^3$は学習パラメータ\n",
        "* $b \\in \\mathbb{R}$も学習パラメータ"
      ]
    },
    {
      "cell_type": "code",
      "metadata": {
        "id": "FUzQCo_07uBV",
        "colab_type": "code",
        "colab": {}
      },
      "source": [
        "def model(x):\n",
        "    return x @ w + b # @は行列の積を表す"
      ],
      "execution_count": null,
      "outputs": []
    },
    {
      "cell_type": "markdown",
      "metadata": {
        "id": "4Q7B2Tne7uBW",
        "colab_type": "text"
      },
      "source": [
        "## 入力$X$に対して予測値を計算してみる\n",
        "\n",
        "\n",
        "初期パラメータはランダムなのでむちゃくちゃな予測値となる"
      ]
    },
    {
      "cell_type": "code",
      "metadata": {
        "id": "lgKwfXf17uBX",
        "colab_type": "code",
        "colab": {}
      },
      "source": [
        "pred = model(X)\n",
        "print(pred)"
      ],
      "execution_count": null,
      "outputs": []
    },
    {
      "cell_type": "markdown",
      "metadata": {
        "id": "xCNnb4f77uBY",
        "colab_type": "text"
      },
      "source": [
        "上のpred = model(X)は想定している入力の次元(3次元ベクトル)と実際の入力($5 \\times 3$行列)に違いがあるように思えるが、PyTorchのブロードキャストが自動的に適用されるため、$X$の各行に対してmodelを適用した結果得られる列ベクトルが返り値となる"
      ]
    },
    {
      "cell_type": "code",
      "metadata": {
        "id": "a3Cjboj77uBY",
        "colab_type": "code",
        "colab": {}
      },
      "source": [
        "print(Y)"
      ],
      "execution_count": null,
      "outputs": []
    },
    {
      "cell_type": "markdown",
      "metadata": {
        "id": "stxF4Fb47uBa",
        "colab_type": "text"
      },
      "source": [
        "## 損失関数を定義する\n",
        "\n",
        "$$\n",
        "\\hat Y  = (\\hat Y_1, \\hat Y_2, \\ldots, \\hat Y_M)\n",
        "$$\n",
        "\n",
        "$$\n",
        "Y  = (Y_1, Y_2, \\ldots, Y_M)\n",
        "$$\n",
        "\n",
        "$$\n",
        "mse(Y, \\hat Y) = \\frac 1 M \\sum_{i=1}^M (Y_i - \\hat Y_i)^2\n",
        "$$"
      ]
    },
    {
      "cell_type": "code",
      "metadata": {
        "id": "hRAq4TVG7uBa",
        "colab_type": "code",
        "colab": {}
      },
      "source": [
        "def mse(t1, t2):\n",
        "    diff = t1 - t2\n",
        "    return torch.sum(diff * diff) / diff.numel() ## numel()はテンソルに含まれる要素数を返す"
      ],
      "execution_count": null,
      "outputs": []
    },
    {
      "cell_type": "markdown",
      "metadata": {
        "id": "V1OAwURJ7uBb",
        "colab_type": "text"
      },
      "source": [
        "## 損失値を計算してみる"
      ]
    },
    {
      "cell_type": "code",
      "metadata": {
        "id": "EQkfxIVg7uBb",
        "colab_type": "code",
        "colab": {}
      },
      "source": [
        "loss = mse(pred, Y)\n",
        "print(loss)"
      ],
      "execution_count": null,
      "outputs": []
    },
    {
      "cell_type": "markdown",
      "metadata": {
        "id": "azK2VLtE7uBc",
        "colab_type": "text"
      },
      "source": [
        "## 勾配ベクトルを計算する"
      ]
    },
    {
      "cell_type": "code",
      "metadata": {
        "id": "j_Df0AR_7uBd",
        "colab_type": "code",
        "colab": {}
      },
      "source": [
        "loss.backward()"
      ],
      "execution_count": null,
      "outputs": []
    },
    {
      "cell_type": "code",
      "metadata": {
        "id": "fBp7tjzd7uBe",
        "colab_type": "code",
        "colab": {}
      },
      "source": [
        "print(w)\n",
        "print(w.grad)"
      ],
      "execution_count": null,
      "outputs": []
    },
    {
      "cell_type": "code",
      "metadata": {
        "id": "8IIPstIE7uBf",
        "colab_type": "code",
        "colab": {}
      },
      "source": [
        "print(b)\n",
        "print(b.grad)"
      ],
      "execution_count": null,
      "outputs": []
    },
    {
      "cell_type": "markdown",
      "metadata": {
        "id": "gpwed-Pn7uBg",
        "colab_type": "text"
      },
      "source": [
        "## 勾配法を利用して$W,b$を調整する。"
      ]
    },
    {
      "cell_type": "code",
      "metadata": {
        "id": "dUeUkFJS7uBg",
        "colab_type": "code",
        "colab": {}
      },
      "source": [
        "with torch.no_grad():\n",
        "    w -= w.grad * 1e-5\n",
        "    b -= b.grad * 1e-5\n",
        "    w.grad.zero_()\n",
        "    b.grad.zero_()\n",
        "\n",
        "preds = model(X)\n",
        "loss = mse(preds, Y)\n",
        "loss.backward()\n",
        "print(loss)"
      ],
      "execution_count": null,
      "outputs": []
    },
    {
      "cell_type": "markdown",
      "metadata": {
        "id": "h0JhMSE57uBh",
        "colab_type": "text"
      },
      "source": [
        "##  学習ループを作成する"
      ]
    },
    {
      "cell_type": "code",
      "metadata": {
        "id": "X9yyjBOa7uBh",
        "colab_type": "code",
        "colab": {}
      },
      "source": [
        "w = torch.randn(3, 1, requires_grad=True)\n",
        "b = torch.randn(1, requires_grad=True)\n",
        "\n",
        "for i in range(10):\n",
        "    preds = model(X)\n",
        "    loss = mse(preds, Y)\n",
        "    loss.backward()\n",
        "    print(i, loss.item())\n",
        "    with torch.no_grad():\n",
        "        w -= w.grad * 1e-5\n",
        "        b -= b.grad * 1e-5\n",
        "        w.grad.zero_()\n",
        "        b.grad.zero_()"
      ],
      "execution_count": null,
      "outputs": []
    },
    {
      "cell_type": "markdown",
      "metadata": {
        "id": "JF-h93bb7uBi",
        "colab_type": "text"
      },
      "source": [
        "## 重回帰予測出力と$Y$を比較する"
      ]
    },
    {
      "cell_type": "code",
      "metadata": {
        "id": "e8CoSyAG7uBi",
        "colab_type": "code",
        "colab": {}
      },
      "source": [
        "model(X)"
      ],
      "execution_count": null,
      "outputs": []
    },
    {
      "cell_type": "code",
      "metadata": {
        "id": "bTk1MW9B7uBj",
        "colab_type": "code",
        "colab": {}
      },
      "source": [
        "Y"
      ],
      "execution_count": null,
      "outputs": []
    },
    {
      "cell_type": "markdown",
      "metadata": {
        "id": "oTuwrQqL7uBk",
        "colab_type": "text"
      },
      "source": [
        "-----------------\n",
        "\n",
        "## 演習問題１\n",
        "\n",
        "上記のコードを実行しつつ、理解せよ。この問題についてはレポートによる報告は必要ない。\n",
        "\n",
        "\n",
        "## 演習問題2\n",
        "\n",
        "「準備」のところでみたような自動微分計算の実例を自分で作り報告せよ(自分で検算も行っておくこと）。\n",
        "\n",
        "\n",
        "## 演習問題3\n",
        "\n",
        "次の2点についてコードを修正し、実行し結果をレポートに報告せよ。\n",
        "\n",
        "* 学習率 $10^{-5}$を変更するとどのような結果が得られるか。\n",
        "* 上記の学習ループはループ数が100である。ループ数を多くすると結果はどうなるか報告せよ。\n",
        "\n",
        "\n",
        "\n",
        "## 演習問題4\n",
        "\n",
        "* なるべく訓練誤差が小さくなるように学習を行い、パラメータを設定せよ。その予測モデルで、\n",
        "\n",
        "入力: 温度80F, 降雨量80mm, 湿度80% \n",
        "\n",
        "の場合の予測値を計算し、報告せよ。\n",
        "\n",
        "\n",
        "\n",
        "-----------------"
      ]
    }
  ]
}