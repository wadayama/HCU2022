{
 "cells": [
  {
   "cell_type": "markdown",
   "metadata": {
    "colab_type": "text",
    "id": "TYmU5UHoyDLH"
   },
   "source": [
    "# Google Colab + Python 入門\n",
    "\n",
    "このノートブックの目標は、Google Colabの利用法に慣れることとPythonの簡単な入門です。"
   ]
  },
  {
   "cell_type": "code",
   "execution_count": 1,
   "metadata": {
    "colab": {},
    "colab_type": "code",
    "id": "Zyq5wscWyDLI"
   },
   "outputs": [],
   "source": [
    "a = 1"
   ]
  },
  {
   "cell_type": "code",
   "execution_count": 2,
   "metadata": {
    "colab": {},
    "colab_type": "code",
    "id": "Wl2kZAyPyDLM"
   },
   "outputs": [],
   "source": [
    "b = 1 "
   ]
  },
  {
   "cell_type": "code",
   "execution_count": 3,
   "metadata": {
    "colab": {},
    "colab_type": "code",
    "id": "T_gZnxOzyDLQ"
   },
   "outputs": [],
   "source": [
    "c = a + b"
   ]
  },
  {
   "cell_type": "code",
   "execution_count": 4,
   "metadata": {
    "colab": {},
    "colab_type": "code",
    "id": "NIZ3GOtmyDLS"
   },
   "outputs": [
    {
     "name": "stdout",
     "output_type": "stream",
     "text": [
      "2\n"
     ]
    }
   ],
   "source": [
    "print(c)"
   ]
  },
  {
   "cell_type": "markdown",
   "metadata": {
    "colab_type": "text",
    "id": "H2K4kMglyDLV"
   },
   "source": [
    "## 高級関数電卓としてpythonを利用する"
   ]
  },
  {
   "cell_type": "code",
   "execution_count": 5,
   "metadata": {
    "colab": {},
    "colab_type": "code",
    "id": "-3V_zE-myDLV"
   },
   "outputs": [],
   "source": [
    "import math # 数学関数を利用する場合はmath をimport する"
   ]
  },
  {
   "cell_type": "code",
   "execution_count": 6,
   "metadata": {
    "colab": {},
    "colab_type": "code",
    "id": "cKs79LX-yDLX"
   },
   "outputs": [
    {
     "name": "stdout",
     "output_type": "stream",
     "text": [
      "1.4142135623730951\n"
     ]
    }
   ],
   "source": [
    "print(math.sqrt(c))"
   ]
  },
  {
   "cell_type": "markdown",
   "metadata": {
    "colab_type": "text",
    "id": "x5KGO-QIyDLY"
   },
   "source": [
    "## ループの作り方\n",
    "\n",
    "Python では「ブロック」はインデントで作ります。"
   ]
  },
  {
   "cell_type": "code",
   "execution_count": 7,
   "metadata": {
    "colab": {},
    "colab_type": "code",
    "id": "L2hPnaBZyDLY"
   },
   "outputs": [
    {
     "name": "stdout",
     "output_type": "stream",
     "text": [
      "0\n",
      "1\n",
      "2\n",
      "3\n",
      "4\n",
      "5\n",
      "6\n",
      "7\n",
      "8\n",
      "9\n"
     ]
    }
   ],
   "source": [
    "sum = 0\n",
    "for i in range(10):\n",
    "    sum = sum + i\n",
    "    print(i)"
   ]
  },
  {
   "cell_type": "code",
   "execution_count": 8,
   "metadata": {
    "colab": {},
    "colab_type": "code",
    "id": "Q_iMKgdOyDLa"
   },
   "outputs": [
    {
     "name": "stdout",
     "output_type": "stream",
     "text": [
      "45\n"
     ]
    }
   ],
   "source": [
    "print(sum)"
   ]
  },
  {
   "cell_type": "markdown",
   "metadata": {
    "colab_type": "text",
    "id": "jz10t7lAyDLb"
   },
   "source": [
    "## 条件判定"
   ]
  },
  {
   "cell_type": "code",
   "execution_count": 9,
   "metadata": {
    "colab": {},
    "colab_type": "code",
    "id": "buhH9JytyDLc"
   },
   "outputs": [
    {
     "name": "stdout",
     "output_type": "stream",
     "text": [
      "0\n",
      "2\n",
      "4\n",
      "6\n",
      "8\n"
     ]
    }
   ],
   "source": [
    "for i in range(10):\n",
    "    if i % 2 == 0:\n",
    "        print(i)"
   ]
  },
  {
   "cell_type": "markdown",
   "metadata": {
    "colab_type": "text",
    "id": "hA1433fbyDLd"
   },
   "source": [
    "## 関数の定義"
   ]
  },
  {
   "cell_type": "code",
   "execution_count": 10,
   "metadata": {
    "colab": {},
    "colab_type": "code",
    "id": "wqIyr5XZyDLd"
   },
   "outputs": [],
   "source": [
    "def square_sum(a, b):\n",
    "    return a**2 + b**2"
   ]
  },
  {
   "cell_type": "code",
   "execution_count": 11,
   "metadata": {
    "colab": {},
    "colab_type": "code",
    "id": "KL2-IJPFyDLe"
   },
   "outputs": [
    {
     "data": {
      "text/plain": [
       "5"
      ]
     },
     "execution_count": 11,
     "metadata": {},
     "output_type": "execute_result"
    }
   ],
   "source": [
    "square_sum(1,2)"
   ]
  },
  {
   "cell_type": "markdown",
   "metadata": {
    "colab_type": "text",
    "id": "AkQmEl2KyDLg"
   },
   "source": [
    "## Pythonの文法についての疑問などは下記参照\n",
    "\n",
    "Python チュートリアル\n",
    "https://docs.python.org/ja/3/tutorial/index.html"
   ]
  },
  {
   "cell_type": "markdown",
   "metadata": {
    "colab_type": "text",
    "id": "7jqy8UrkyDLg"
   },
   "source": [
    "## リストの取り扱いとグラフの表示"
   ]
  },
  {
   "cell_type": "code",
   "execution_count": 12,
   "metadata": {
    "colab": {},
    "colab_type": "code",
    "id": "9Vxb2QivyDLg"
   },
   "outputs": [],
   "source": [
    "a = []"
   ]
  },
  {
   "cell_type": "code",
   "execution_count": 13,
   "metadata": {
    "colab": {},
    "colab_type": "code",
    "id": "SfMrrXoMyDLh"
   },
   "outputs": [],
   "source": [
    "for i in range(10):\n",
    "    a.append(i) # リストaの末尾に引数の要素を追加する"
   ]
  },
  {
   "cell_type": "code",
   "execution_count": 14,
   "metadata": {
    "colab": {},
    "colab_type": "code",
    "id": "21CaR2ELyDLi"
   },
   "outputs": [
    {
     "name": "stdout",
     "output_type": "stream",
     "text": [
      "[0, 1, 2, 3, 4, 5, 6, 7, 8, 9]\n"
     ]
    }
   ],
   "source": [
    "print(a)"
   ]
  },
  {
   "cell_type": "code",
   "execution_count": 15,
   "metadata": {
    "colab": {},
    "colab_type": "code",
    "id": "Tmu28rYSyDLk"
   },
   "outputs": [
    {
     "name": "stdout",
     "output_type": "stream",
     "text": [
      "[0, 1, 4, 9, 16, 25, 36, 49, 64, 81]\n"
     ]
    }
   ],
   "source": [
    "b = []\n",
    "for i in range(10):\n",
    "    b.append(i**2)\n",
    "print(b)"
   ]
  },
  {
   "cell_type": "markdown",
   "metadata": {
    "colab_type": "text",
    "id": "nvzDUQTAyDLl"
   },
   "source": [
    "## グラフの描画はmatplotlibを利用する\n",
    "\n",
    "python + matplotlibの組み合わせで簡単に計算結果をグラフとして描画することができる。"
   ]
  },
  {
   "cell_type": "code",
   "execution_count": 16,
   "metadata": {
    "colab": {},
    "colab_type": "code",
    "id": "2tATyDXByDLl"
   },
   "outputs": [],
   "source": [
    "import matplotlib.pyplot as plt"
   ]
  },
  {
   "cell_type": "code",
   "execution_count": 17,
   "metadata": {
    "colab": {},
    "colab_type": "code",
    "id": "Qmfbsa7iyDLm"
   },
   "outputs": [
    {
     "data": {
      "text/plain": [
       "[<matplotlib.lines.Line2D at 0x7fdea8f14b50>]"
      ]
     },
     "execution_count": 17,
     "metadata": {},
     "output_type": "execute_result"
    },
    {
     "data": {
      "image/png": "[encoded data removed]",
      "text/plain": [
       "<Figure size 432x288 with 1 Axes>"
      ]
     },
     "metadata": {
      "needs_background": "light"
     },
     "output_type": "display_data"
    }
   ],
   "source": [
    "plt.plot(a, b, color=\"red\", marker=\"o\")"
   ]
  },
  {
   "cell_type": "markdown",
   "metadata": {
    "colab_type": "text",
    "id": "ctC0WjrsyDLn"
   },
   "source": [
    "# 勾配法(２次元目的関数)を動かしてみる\n",
    "\n",
    "目的関数 $\\frac 1 2 x^2 +5  y^2$の最小化を行う。"
   ]
  },
  {
   "cell_type": "markdown",
   "metadata": {
    "colab_type": "text",
    "id": "hOOpB75ayDLn"
   },
   "source": [
    "## x, yの偏微分値を返す関数"
   ]
  },
  {
   "cell_type": "code",
   "execution_count": 18,
   "metadata": {
    "colab": {},
    "colab_type": "code",
    "id": "Ufdrg-5GyDLo"
   },
   "outputs": [],
   "source": [
    "def grad_x(x):\n",
    "    return x\n",
    "\n",
    "def grad_y(y):\n",
    "    return 10.0 * y"
   ]
  },
  {
   "cell_type": "markdown",
   "metadata": {
    "colab_type": "text",
    "id": "63mYSc9CyDLp"
   },
   "source": [
    "## 勾配法の反復計算"
   ]
  },
  {
   "cell_type": "code",
   "execution_count": 19,
   "metadata": {
    "colab": {},
    "colab_type": "code",
    "id": "ll_-k2RlyDLp"
   },
   "outputs": [
    {
     "name": "stdout",
     "output_type": "stream",
     "text": [
      "0 3.2800000000000002 -0.7999999999999998\n",
      "1 2.6896000000000004 0.6399999999999999\n",
      "2 2.2054720000000003 -0.5119999999999998\n",
      "3 1.8084870400000002 0.40959999999999974\n",
      "4 1.4829593728000001 -0.32767999999999975\n",
      "5 1.216026685696 0.2621439999999998\n",
      "6 0.9971418822707201 -0.20971519999999982\n",
      "7 0.8176563434619905 0.16777215999999984\n",
      "8 0.6704782016388322 -0.13421772799999987\n",
      "9 0.5497921253438425 0.10737418239999988\n",
      "10 0.45082954278195086 -0.0858993459199999\n",
      "11 0.3696802250811997 0.06871947673599993\n",
      "12 0.30313778456658375 -0.05497558138879993\n",
      "13 0.24857298334459868 0.04398046511103994\n",
      "14 0.20382984634257093 -0.03518437208883195\n",
      "15 0.16714047400090815 0.028147497671065558\n",
      "16 0.13705518868074468 -0.022517998136852443\n",
      "17 0.11238525471821063 0.01801439850948195\n",
      "18 0.09215590886893271 -0.014411518807585559\n",
      "19 0.07556784527252483 0.01152921504606845\n"
     ]
    }
   ],
   "source": [
    "x = 4.0\n",
    "y = 1.0\n",
    "alpha = 0.18\n",
    "\n",
    "for i in range(20):\n",
    "    x = x - alpha * grad_x(x)\n",
    "    y = y - alpha * grad_y(y)\n",
    "    print(i, x, y)"
   ]
  },
  {
   "cell_type": "markdown",
   "metadata": {
    "colab_type": "text",
    "id": "tKIhcjKMyDLq"
   },
   "source": [
    "## 探索点の軌跡を表示する"
   ]
  },
  {
   "cell_type": "code",
   "execution_count": 20,
   "metadata": {
    "colab": {},
    "colab_type": "code",
    "id": "vM9gqSshyDLq"
   },
   "outputs": [],
   "source": [
    "x = 4.0\n",
    "y = 1.0\n",
    "alpha = 0.18\n",
    "\n",
    "x_list = []\n",
    "y_list = []\n",
    "ind_list = []\n",
    "err_list = []\n",
    "for i in range(20):\n",
    "    x = x - alpha * grad_x(x)\n",
    "    y = y - alpha * grad_y(y)\n",
    "    x_list.append(x)\n",
    "    y_list.append(y)\n",
    "    ind_list.append(i)\n",
    "    err_list.append(x*x+y*y)"
   ]
  },
  {
   "cell_type": "code",
   "execution_count": 21,
   "metadata": {
    "colab": {},
    "colab_type": "code",
    "id": "dl8u33lxyDLr"
   },
   "outputs": [
    {
     "data": {
      "text/plain": [
       "[<matplotlib.lines.Line2D at 0x7fdee89d5640>]"
      ]
     },
     "execution_count": 21,
     "metadata": {},
     "output_type": "execute_result"
    },
    {
     "data": {
      "image/png": "[encoded data removed]",
      "text/plain": [
       "<Figure size 432x288 with 1 Axes>"
      ]
     },
     "metadata": {
      "needs_background": "light"
     },
     "output_type": "display_data"
    }
   ],
   "source": [
    "plt.plot(x_list, y_list, color=\"red\", marker=\"o\")"
   ]
  },
  {
   "cell_type": "markdown",
   "metadata": {
    "colab_type": "text",
    "id": "6rgwnQbWyDLs"
   },
   "source": [
    "## 二乗誤差値を表示する"
   ]
  },
  {
   "cell_type": "code",
   "execution_count": 22,
   "metadata": {
    "colab": {},
    "colab_type": "code",
    "id": "Ic367zr1yDLt"
   },
   "outputs": [
    {
     "data": {
      "text/plain": [
       "[<matplotlib.lines.Line2D at 0x7fdea90f3430>]"
      ]
     },
     "execution_count": 22,
     "metadata": {},
     "output_type": "execute_result"
    },
    {
     "data": {
      "image/png": "[encoded data removed]",
      "text/plain": [
       "<Figure size 432x288 with 1 Axes>"
      ]
     },
     "metadata": {
      "needs_background": "light"
     },
     "output_type": "display_data"
    }
   ],
   "source": [
    "plt.plot(ind_list, err_list, color=\"red\", marker=\"o\")"
   ]
  },
  {
   "cell_type": "markdown",
   "metadata": {
    "colab_type": "text",
    "id": "4snmVUUJyDLu"
   },
   "source": [
    "-------------------------------\n",
    "## 演習問題1-0\n",
    "\n",
    "上記のコードを実行しつつ、理解せよ。この問題についてはレポートによる報告は必要ない。\n",
    "\n",
    "## 演習問題1-1\n",
    "\n",
    "1から100までの数の二乗和を計算するpythonのコードを作成し、計算結果を求めよ。\n",
    "\n",
    "## 演習問題1-2\n",
    "\n",
    "上の勾配法のプログラムを少し修正し、下記を報告せよ。\n",
    "\n",
    "* 学習係数が0.2の場合またはそれ以上に大きい場合を試してみよ。その結果を報告せよ。\n",
    "* 学習係数が小さい場合、例えば、0.05, 0.005の場合を試してみよ。その結果を報告せよ。\n",
    "* 他の初期点からスタートしてみよ。例えば、x軸上の点など。いくつか試してその結果を報告せよ。\n",
    "--------------------------------"
   ]
  },
  {
   "cell_type": "code",
   "execution_count": null,
   "metadata": {
    "colab": {},
    "colab_type": "code",
    "id": "KWfDetPgyDLu"
   },
   "outputs": [],
   "source": []
  }
 ],
 "metadata": {
  "colab": {
   "name": "Colab_intro.ipynb",
   "provenance": []
  },
  "kernel_info": {
   "name": "python3"
  },
  "kernelspec": {
   "display_name": "Python 3 (ipykernel)",
   "language": "python",
   "name": "python3"
  },
  "language_info": {
   "codemirror_mode": {
    "name": "ipython",
    "version": 3
   },
   "file_extension": ".py",
   "mimetype": "text/x-python",
   "name": "python",
   "nbconvert_exporter": "python",
   "pygments_lexer": "ipython3",
   "version": "3.8.12"
  },
  "nteract": {
   "version": "0.12.3"
  }
 },
 "nbformat": 4,
 "nbformat_minor": 4
}
